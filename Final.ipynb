{
 "cells": [
  {
   "cell_type": "markdown",
   "id": "23202e74-dccd-4de9-9ff3-eb3973217455",
   "metadata": {},
   "source": [
    "# Classification Model Predicting White Wine Quality"
   ]
  },
  {
   "cell_type": "markdown",
   "id": "0624f38f-f508-478d-8ff3-c883d80d5b62",
   "metadata": {},
   "source": [
    "## Introduction"
   ]
  },
  {
   "cell_type": "markdown",
   "id": "cdfde18c-22f1-4156-8c80-d80159202440",
   "metadata": {},
   "source": [
    "<b>Vinho Verde</b> is renowned for its savoury taste, fresh colour and stress-relieving benefits. Among the variants of Vinho Verde, white Vinho Verde stood out as the most promising individual in the global market. A study suggests that the global dry white wine industry surged in 2022 and is expected to maintain an upward trend until 2030 (Market Reports World, 2023). This urging demand in the dry white wine market made quality classification daily more significant; therefore, we have designed a k-nearest-neighbor classification model that determines the quality of the Vinho Verde regarding the wine’s chemical ingredients with reasonable accuracy.\n",
    "\n",
    "<b>Predictive Question: </b>In our project, we will try to answer the question: <u>“How can we predict the level of quality of the White Vinho Verde given the physicochemical attributes in our dataset?”</u>\n",
    "\n",
    "We utilized the <b>Wine Quality</b> dataset from the [UC Irvine Machine Learning Repository](https://archive.ics.uci.edu/), which features 11 physicochemical attributes of wines, such as fixed acidity, citric acid, residual sugar, density, a quality variable, etc.\n",
    "\n",
    "Most of the variables, besides the “wine quality” variable, are quantitative. Our dataset focuses on the white variant of Vinho Verde, in which most of the variables are measured in grams/dm^3, with the exceptions of free_sulfur_dioxide (milligrams/dm^3), total_sulfur_dioxide (milligrams/dm^3), and pH (represented on a scale from 0 to 14) (Cortez, Cerdeira, Almeida, Matos, & Reis, 2009). Additionally, the dataset contains 4898 observations without any non-applicable values. Our project involves cleaning and preprocessing the Vinho Verde dataset, implementing appropriate algorithms, k-tuning, and k-nearest-neighbor classification models for wine quality predictions on a scale from 1 to 10 with increasing quality evaluation.\n",
    "\n",
    "In summary, this document provides a thorough list of procedures for our development of an accurate white Vinho Verde wine quality classification model.  \n"
   ]
  },
  {
   "cell_type": "markdown",
   "id": "1142e69f-6dc5-4db5-80b4-2119aa836dd9",
   "metadata": {},
   "source": [
    "## Methods & Results"
   ]
  },
  {
   "cell_type": "code",
   "execution_count": 1,
   "id": "40459496-185c-4e1f-b593-c2ece206d550",
   "metadata": {
    "tags": []
   },
   "outputs": [
    {
     "name": "stderr",
     "output_type": "stream",
     "text": [
      "── \u001b[1mAttaching packages\u001b[22m ─────────────────────────────────────── tidyverse 1.3.2 ──\n",
      "\u001b[32m✔\u001b[39m \u001b[34mggplot2\u001b[39m 3.4.2     \u001b[32m✔\u001b[39m \u001b[34mpurrr  \u001b[39m 1.0.1\n",
      "\u001b[32m✔\u001b[39m \u001b[34mtibble \u001b[39m 3.2.1     \u001b[32m✔\u001b[39m \u001b[34mdplyr  \u001b[39m 1.1.1\n",
      "\u001b[32m✔\u001b[39m \u001b[34mtidyr  \u001b[39m 1.3.0     \u001b[32m✔\u001b[39m \u001b[34mstringr\u001b[39m 1.5.0\n",
      "\u001b[32m✔\u001b[39m \u001b[34mreadr  \u001b[39m 2.1.3     \u001b[32m✔\u001b[39m \u001b[34mforcats\u001b[39m 0.5.2\n",
      "── \u001b[1mConflicts\u001b[22m ────────────────────────────────────────── tidyverse_conflicts() ──\n",
      "\u001b[31m✖\u001b[39m \u001b[34mdplyr\u001b[39m::\u001b[32mfilter()\u001b[39m masks \u001b[34mstats\u001b[39m::filter()\n",
      "\u001b[31m✖\u001b[39m \u001b[34mdplyr\u001b[39m::\u001b[32mlag()\u001b[39m    masks \u001b[34mstats\u001b[39m::lag()\n",
      "── \u001b[1mAttaching packages\u001b[22m ────────────────────────────────────── tidymodels 1.0.0 ──\n",
      "\n",
      "\u001b[32m✔\u001b[39m \u001b[34mbroom       \u001b[39m 1.0.2     \u001b[32m✔\u001b[39m \u001b[34mrsample     \u001b[39m 1.1.1\n",
      "\u001b[32m✔\u001b[39m \u001b[34mdials       \u001b[39m 1.1.0     \u001b[32m✔\u001b[39m \u001b[34mtune        \u001b[39m 1.0.1\n",
      "\u001b[32m✔\u001b[39m \u001b[34minfer       \u001b[39m 1.0.4     \u001b[32m✔\u001b[39m \u001b[34mworkflows   \u001b[39m 1.1.2\n",
      "\u001b[32m✔\u001b[39m \u001b[34mmodeldata   \u001b[39m 1.0.1     \u001b[32m✔\u001b[39m \u001b[34mworkflowsets\u001b[39m 1.0.0\n",
      "\u001b[32m✔\u001b[39m \u001b[34mparsnip     \u001b[39m 1.0.3     \u001b[32m✔\u001b[39m \u001b[34myardstick   \u001b[39m 1.1.0\n",
      "\u001b[32m✔\u001b[39m \u001b[34mrecipes     \u001b[39m 1.0.4     \n",
      "\n",
      "── \u001b[1mConflicts\u001b[22m ───────────────────────────────────────── tidymodels_conflicts() ──\n",
      "\u001b[31m✖\u001b[39m \u001b[34mscales\u001b[39m::\u001b[32mdiscard()\u001b[39m masks \u001b[34mpurrr\u001b[39m::discard()\n",
      "\u001b[31m✖\u001b[39m \u001b[34mdplyr\u001b[39m::\u001b[32mfilter()\u001b[39m   masks \u001b[34mstats\u001b[39m::filter()\n",
      "\u001b[31m✖\u001b[39m \u001b[34mrecipes\u001b[39m::\u001b[32mfixed()\u001b[39m  masks \u001b[34mstringr\u001b[39m::fixed()\n",
      "\u001b[31m✖\u001b[39m \u001b[34mdplyr\u001b[39m::\u001b[32mlag()\u001b[39m      masks \u001b[34mstats\u001b[39m::lag()\n",
      "\u001b[31m✖\u001b[39m \u001b[34myardstick\u001b[39m::\u001b[32mspec()\u001b[39m masks \u001b[34mreadr\u001b[39m::spec()\n",
      "\u001b[31m✖\u001b[39m \u001b[34mrecipes\u001b[39m::\u001b[32mstep()\u001b[39m   masks \u001b[34mstats\u001b[39m::step()\n",
      "\u001b[34m•\u001b[39m Use \u001b[32mtidymodels_prefer()\u001b[39m to resolve common conflicts.\n",
      "\n"
     ]
    },
    {
     "ename": "ERROR",
     "evalue": "Error in library(themis): there is no package called ‘themis’\n",
     "output_type": "error",
     "traceback": [
      "Error in library(themis): there is no package called ‘themis’\nTraceback:\n",
      "1. library(themis)"
     ]
    }
   ],
   "source": [
    "# Run This Cell Before Continuing\n",
    "set.seed(999)\n",
    "library(repr)\n",
    "library(tidyverse)\n",
    "library(tidymodels)\n",
    "library(themis)\n",
    "library(janitor)\n",
    "library(cowplot)"
   ]
  },
  {
   "cell_type": "code",
   "execution_count": 2,
   "id": "3267816c-f5ee-48aa-8cb0-6e550c2d3e4f",
   "metadata": {
    "tags": []
   },
   "outputs": [
    {
     "name": "stderr",
     "output_type": "stream",
     "text": [
      "also installing the dependencies ‘RANN’, ‘ROSE’\n",
      "\n",
      "\n",
      "Updating HTML index of packages in '.Library'\n",
      "\n",
      "Making 'packages.html' ...\n",
      " done\n",
      "\n"
     ]
    }
   ],
   "source": [
    "install.packages(\"themis\")"
   ]
  },
  {
   "cell_type": "markdown",
   "id": "ec0a2c1d-9638-42b8-aded-9b8796a5f90e",
   "metadata": {},
   "source": [
    "Downloading the data to use during our Analysis."
   ]
  },
  {
   "cell_type": "code",
   "execution_count": 16,
   "id": "68b895bc-4684-4bfb-80ba-718b2ca0d259",
   "metadata": {
    "tags": []
   },
   "outputs": [
    {
     "name": "stderr",
     "output_type": "stream",
     "text": [
      "Warning message in download.file(url, \"data/winequality-white.csv\"):\n",
      "“URL https://raw.githubusercontent.com/TrBili/dsci-100-project/main/data_2/winequality-white.csv: cannot open destfile 'data/winequality-white.csv', reason 'No such file or directory'”\n",
      "Warning message in download.file(url, \"data/winequality-white.csv\"):\n",
      "“download had nonzero exit status”\n"
     ]
    }
   ],
   "source": [
    "url <- \"https://raw.githubusercontent.com/TrBili/dsci-100-project/main/data_2/winequality-white.csv\"\n",
    "download.file(url, \"data/winequality-white.csv\")"
   ]
  },
  {
   "cell_type": "markdown",
   "id": "61c95dc0-d21d-4869-9eb3-2302f3599653",
   "metadata": {},
   "source": [
    "Extracting the data from the downloaded file"
   ]
  },
  {
   "cell_type": "code",
   "execution_count": 17,
   "id": "f5da7f01-ceb7-4d9a-9055-6a5f8ab26ed2",
   "metadata": {
    "tags": []
   },
   "outputs": [
    {
     "name": "stderr",
     "output_type": "stream",
     "text": [
      "\u001b[36mℹ\u001b[39m Using \u001b[34m\u001b[34m\"','\"\u001b[34m\u001b[39m as decimal and \u001b[34m\u001b[34m\"'.'\"\u001b[34m\u001b[39m as grouping mark. Use `read_delim()` for more control.\n",
      "\n"
     ]
    },
    {
     "ename": "ERROR",
     "evalue": "Error: 'data/winequality-white.csv' does not exist in current working directory ('/home/jovyan/dsci-100-project').\n",
     "output_type": "error",
     "traceback": [
      "Error: 'data/winequality-white.csv' does not exist in current working directory ('/home/jovyan/dsci-100-project').\nTraceback:\n",
      "1. read_csv2(\"data/winequality-white.csv\")",
      "2. vroom::vroom(file, delim = \";\", col_names = col_names, col_types = col_types, \n .     col_select = {\n .         {\n .             col_select\n .         }\n .     }, id = id, .name_repair = name_repair, skip = skip, n_max = n_max, \n .     na = na, quote = quote, comment = comment, skip_empty_rows = skip_empty_rows, \n .     trim_ws = trim_ws, escape_double = TRUE, escape_backslash = FALSE, \n .     locale = locale, guess_max = guess_max, show_col_types = show_col_types, \n .     progress = progress, altrep = lazy, num_threads = num_threads)",
      "3. vroom_(file, delim = delim %||% col_types$delim, col_names = col_names, \n .     col_types = col_types, id = id, skip = skip, col_select = col_select, \n .     name_repair = .name_repair, na = na, quote = quote, trim_ws = trim_ws, \n .     escape_double = escape_double, escape_backslash = escape_backslash, \n .     comment = comment, skip_empty_rows = skip_empty_rows, locale = locale, \n .     guess_max = guess_max, n_max = n_max, altrep = vroom_altrep(altrep), \n .     num_threads = num_threads, progress = progress)",
      "4. (function (path, write = FALSE) \n . {\n .     if (is.raw(path)) {\n .         return(rawConnection(path, \"rb\"))\n .     }\n .     if (!is.character(path)) {\n .         return(path)\n .     }\n .     if (is_url(path)) {\n .         if (requireNamespace(\"curl\", quietly = TRUE)) {\n .             con <- curl::curl(path)\n .         }\n .         else {\n .             rlang::inform(\"`curl` package not installed, falling back to using `url()`\")\n .             con <- url(path)\n .         }\n .         ext <- tolower(tools::file_ext(path))\n .         return(switch(ext, zip = , bz2 = , xz = {\n .             close(con)\n .             stop(\"Reading from remote `\", ext, \"` compressed files is not supported,\\n\", \n .                 \"  download the files locally first.\", call. = FALSE)\n .         }, gz = gzcon(con), con))\n .     }\n .     path <- enc2utf8(path)\n .     p <- split_path_ext(basename_utf8(path))\n .     if (write) {\n .         path <- normalizePath_utf8(path, mustWork = FALSE)\n .     }\n .     else {\n .         path <- check_path(path)\n .     }\n .     if (rlang::is_installed(\"archive\")) {\n .         formats <- archive_formats(p$extension)\n .         extension <- p$extension\n .         while (is.null(formats) && nzchar(extension)) {\n .             extension <- split_path_ext(extension)$extension\n .             formats <- archive_formats(extension)\n .         }\n .         if (!is.null(formats)) {\n .             p$extension <- extension\n .             if (write) {\n .                 if (is.null(formats[[1]])) {\n .                   return(archive::file_write(path, filter = formats[[2]]))\n .                 }\n .                 return(archive::archive_write(path, p$path, format = formats[[1]], \n .                   filter = formats[[2]]))\n .             }\n .             if (is.null(formats[[1]])) {\n .                 return(archive::file_read(path, filter = formats[[2]]))\n .             }\n .             return(archive::archive_read(path, format = formats[[1]], \n .                 filter = formats[[2]]))\n .         }\n .     }\n .     if (!write) {\n .         compression <- detect_compression(path)\n .     }\n .     else {\n .         compression <- NA\n .     }\n .     if (is.na(compression)) {\n .         compression <- tools::file_ext(path)\n .     }\n .     if (write && compression == \"zip\") {\n .         stop(\"Can only read from, not write to, .zip\", call. = FALSE)\n .     }\n .     switch(compression, gz = gzfile(path, \"\"), bz2 = bzfile(path, \n .         \"\"), xz = xzfile(path, \"\"), zip = zipfile(path, \"\"), \n .         if (!has_trailing_newline(path)) {\n .             file(path)\n .         } else {\n .             path\n .         })\n . })(\"data/winequality-white.csv\")",
      "5. check_path(path)",
      "6. stop(\"'\", path, \"' does not exist\", if (!is_absolute_path(path)) {\n .     paste0(\" in current working directory ('\", getwd(), \"')\")\n . }, \".\", call. = FALSE)"
     ]
    }
   ],
   "source": [
    "wine_data_raw <- read_csv2(\"data/winequality-white.csv\")\n",
    "\n",
    "head(wine_data_raw)\n"
   ]
  },
  {
   "cell_type": "markdown",
   "id": "d12dc83d-c3f3-4bcd-8236-ea00f2c2fed3",
   "metadata": {},
   "source": [
    "We can see that some numerical variables have a `chr` data type; hence, we need to make it numeric to use later in our model. We can also see that the names of variables have spaces; hence, we need to make them suitable for use. Finally, we have to make the `quality` column, a factor as we will use it as our Class (categorical variable) during this analysis. \n",
    "\n",
    "We will now clean our data to make it suitable for Exploratory Data Analysis."
   ]
  },
  {
   "cell_type": "code",
   "execution_count": 15,
   "id": "9218050a-f664-4c50-adf6-e6399b186cdd",
   "metadata": {
    "tags": []
   },
   "outputs": [
    {
     "ename": "ERROR",
     "evalue": "Error in clean_names(wine_data_raw): could not find function \"clean_names\"\n",
     "output_type": "error",
     "traceback": [
      "Error in clean_names(wine_data_raw): could not find function \"clean_names\"\nTraceback:\n",
      "1. mutate(map_df(drop_na(clean_names(wine_data_raw)), as.numeric), \n .     quality = as_factor(quality))",
      "2. map_df(drop_na(clean_names(wine_data_raw)), as.numeric)",
      "3. map(.x, .f, ...)",
      "4. map_(\"list\", .x, .f, ..., .progress = .progress)",
      "5. vctrs_vec_compat(.x, .purrr_user_env)",
      "6. drop_na(clean_names(wine_data_raw))"
     ]
    }
   ],
   "source": [
    "wine_data <- wine_data_raw |> \n",
    "                clean_names() |>                        \n",
    "                drop_na() |> # removes rows with NA \n",
    "                map_df(as.numeric) |> # as all our columns are numeric\n",
    "                mutate(quality = as_factor(quality)) # we will use quality as our class\n",
    "                \n",
    "\n",
    "head(wine_data)"
   ]
  },
  {
   "cell_type": "markdown",
   "id": "522f1023-811c-4fc7-b952-cf7500637821",
   "metadata": {},
   "source": [
    "All the unique values in the quality column"
   ]
  },
  {
   "cell_type": "code",
   "execution_count": 6,
   "id": "96107216-cdba-4f71-81b7-0b351c036c82",
   "metadata": {
    "tags": []
   },
   "outputs": [
    {
     "ename": "ERROR",
     "evalue": "Error in distinct(wine_data, quality): object 'wine_data' not found\n",
     "output_type": "error",
     "traceback": [
      "Error in distinct(wine_data, quality): object 'wine_data' not found\nTraceback:\n",
      "1. distinct(wine_data, quality)"
     ]
    }
   ],
   "source": [
    "wine_data |> distinct(quality)"
   ]
  },
  {
   "cell_type": "markdown",
   "id": "226448fc-a92f-4916-95cb-ce33afb3f2d6",
   "metadata": {},
   "source": [
    "Using the clean data, we will spit our data into training & testing set, then perform exploratory data analysis. "
   ]
  },
  {
   "cell_type": "code",
   "execution_count": 7,
   "id": "9c6c886a-2137-4083-93eb-f5d5d9de3994",
   "metadata": {
    "tags": []
   },
   "outputs": [
    {
     "ename": "ERROR",
     "evalue": "Error in eval_select_impl(NULL, .vars, expr(c(!!!dots)), include = .include, : object 'wine_data' not found\n",
     "output_type": "error",
     "traceback": [
      "Error in eval_select_impl(NULL, .vars, expr(c(!!!dots)), include = .include, : object 'wine_data' not found\nTraceback:\n",
      "1. initial_split(wine_data, prop = 0.75, strata = quality)",
      "2. mc_cv(data = data, prop = prop, strata = {\n .     {\n .         strata\n .     }\n . }, breaks = breaks, pool = pool, times = 1, ...)",
      "3. tidyselect::vars_select(names(data), !!enquo(strata))",
      "4. eval_select_impl(NULL, .vars, expr(c(!!!dots)), include = .include, \n .     exclude = .exclude, strict = .strict, name_spec = unique_name_spec, \n .     uniquely_named = TRUE, error_call = caller_env())"
     ]
    }
   ],
   "source": [
    "wine_split <- initial_split(wine_data, prop=0.75,strata=quality)\n",
    "\n",
    "## Training Data\n",
    "wine_train <- training(wine_split)\n",
    "\n",
    "## Testing Data\n",
    "wine_test <- testing(wine_split)\n",
    "\n",
    "head(wine_train)\n",
    "head(wine_test)"
   ]
  },
  {
   "cell_type": "markdown",
   "id": "47b42f02-0345-4443-b853-b0accb502f1c",
   "metadata": {},
   "source": [
    "We will now be doing Exploratory Data Analysis on our training set."
   ]
  },
  {
   "cell_type": "code",
   "execution_count": 8,
   "id": "7c7de3c3-3497-4d97-86d9-b234045780d2",
   "metadata": {
    "tags": []
   },
   "outputs": [
    {
     "ename": "ERROR",
     "evalue": "Error in select(wine_train, -quality): object 'wine_train' not found\n",
     "output_type": "error",
     "traceback": [
      "Error in select(wine_train, -quality): object 'wine_train' not found\nTraceback:\n",
      "1. colnames(select(wine_train, -quality))",
      "2. is.data.frame(x)",
      "3. select(wine_train, -quality)"
     ]
    }
   ],
   "source": [
    "## Setting the Width & Height of the Plot\n",
    "options(repr.plot.width=8,repr.plot.height=25)\n",
    "\n",
    "## Extracting all the column names from our clean Dataset\n",
    "all_cols <- wine_train |> select(-quality) |> colnames()\n",
    "\n",
    "## Extracting all the column names from our raw Dataset\n",
    "col_names <- wine_data_raw |> colnames()\n",
    "\n",
    "## Creating a list to store all our plots\n",
    "plots <- list()\n",
    "\n",
    "## Loop Variable\n",
    "i <- 0\n",
    "\n",
    "## Looping through each column\n",
    "for(c in all_cols) {\n",
    "    i <- i + 1\n",
    "    c_sym <- sym(c)\n",
    "    box_plot <- ggplot(wine_train, aes(x=quality,y=!!c_sym)) +\n",
    "            geom_boxplot() +\n",
    "            labs(x=\"Quality\", y=col_names[i], subtitle=(100 + i)/100)\n",
    "    plots[[c]] <- box_plot\n",
    "}\n",
    "\n",
    "## Merging all the plots\n",
    "plot_grid(plotlist = plots, ncol = 2)"
   ]
  },
  {
   "cell_type": "markdown",
   "id": "55c6ab15-a4c6-4fdf-8ce1-b846b0428ddf",
   "metadata": {},
   "source": [
    "Observing the box plots above, the median/length appears to be different between the boxes, which implies that the variable has a high effect on the response variable.\n",
    "\n",
    "Observing the boxplot above, we can choose the following attributes.\n",
    "1. Volatile Acidity\n",
    "2. Citric Acid\n",
    "3. Residual Sugar\n",
    "4. Sulphates"
   ]
  },
  {
   "cell_type": "markdown",
   "id": "09e6fbff-0c7d-4eaa-8ab3-b601c59c9c2c",
   "metadata": {},
   "source": [
    "We will now perform a summary analysis on our selected predictors from our training data, to further distinguish between relevant predictors."
   ]
  },
  {
   "cell_type": "code",
   "execution_count": 9,
   "id": "462d090b-e57d-4078-a18b-66685b0705db",
   "metadata": {
    "tags": []
   },
   "outputs": [
    {
     "ename": "ERROR",
     "evalue": "Error in select(wine_train, quality, volatile_acidity, citric_acid, residual_sugar, : object 'wine_train' not found\n",
     "output_type": "error",
     "traceback": [
      "Error in select(wine_train, quality, volatile_acidity, citric_acid, residual_sugar, : object 'wine_train' not found\nTraceback:\n",
      "1. select(wine_train, quality, volatile_acidity, citric_acid, residual_sugar, \n .     sulphates)"
     ]
    }
   ],
   "source": [
    "## selecting the required variables\n",
    "selected_wine_train_data <- wine_train |> \n",
    "                    select(quality, volatile_acidity, citric_acid, residual_sugar, sulphates)\n",
    "\n",
    "\n",
    "## Summary of Training Data - Mean of Each Column & Count of Each Quality\n",
    "summary_wine_train_data <- wine_train |>\n",
    "                    group_by(quality) |>\n",
    "                    summarize(mean_volatile_acidity = mean(volatile_acidity),\n",
    "                             mean_citric_acid = mean(citric_acid),\n",
    "                             mean_residual_sugar = mean(residual_sugar),\n",
    "                             mean_sulphates = mean(sulphates),\n",
    "                             total_count=n(),\n",
    "                             percentage=(100*n()/nrow(wine_train)))\n",
    "\n",
    "summary_wine_train_data\n",
    "print(\"Summary Table 1\")"
   ]
  },
  {
   "cell_type": "markdown",
   "id": "1ebbf79e-b6ef-4014-b7ed-6276c293564f",
   "metadata": {},
   "source": [
    "The summary table above shows that our selected predictors have variations with `quality`. \n",
    "\n",
    "Total Count: The `total_count` column indicates the number of observations for each quality level. A significant imbalance is evident, with much more data for quality levels 5 and 6 compared to others. This could potentially bias a KNN model, and we might need to consider methods to address this class imbalance, such as upsampling.\n",
    "\n",
    "Percentage: This column shows the percentage of observations in each quality level relative to the entire dataset. Quality 5 and 6 make up a large percentage of the data, indicating that the dataset is imbalanced, which could influence the KNN classifier's performance.\n",
    "\n",
    "<hr></hr>\n",
    "\n",
    "We will start by creating a recipe which scales all our variables, and also rebalances our dataset by oversampling all the qualities and maintains a 1:1 ratio."
   ]
  },
  {
   "cell_type": "code",
   "execution_count": 10,
   "id": "17fea951-f125-46f2-b37c-5c1397e5ec32",
   "metadata": {
    "tags": []
   },
   "outputs": [
    {
     "ename": "ERROR",
     "evalue": "Error in step_upsample(recipe(quality ~ quality + volatile_acidity + citric_acid + : could not find function \"step_upsample\"\n",
     "output_type": "error",
     "traceback": [
      "Error in step_upsample(recipe(quality ~ quality + volatile_acidity + citric_acid + : could not find function \"step_upsample\"\nTraceback:\n",
      "1. step_center(step_scale(step_upsample(recipe(quality ~ quality + \n .     volatile_acidity + citric_acid + residual_sugar + sulphates, \n .     data = wine_train), quality, over_ratio = 1, skip = TRUE), \n .     all_predictors()), all_predictors())",
      "2. add_step(recipe, step_center_new(terms = enquos(...), trained = trained, \n .     role = role, means = means, na_rm = na_rm, skip = skip, id = id, \n .     case_weights = NULL))",
      "3. step_scale(step_upsample(recipe(quality ~ quality + volatile_acidity + \n .     citric_acid + residual_sugar + sulphates, data = wine_train), \n .     quality, over_ratio = 1, skip = TRUE), all_predictors())",
      "4. add_step(recipe, step_scale_new(terms = enquos(...), role = role, \n .     trained = trained, sds = sds, factor = factor, na_rm = na_rm, \n .     skip = skip, id = id, case_weights = NULL))"
     ]
    }
   ],
   "source": [
    "wine_recipe <- recipe(quality ~ quality + volatile_acidity + citric_acid + residual_sugar + sulphates, data = wine_train) |>\n",
    "                step_upsample(quality, over_ratio = 1, skip=TRUE) |>\n",
    "                step_scale(all_predictors()) |>\n",
    "                step_center(all_predictors())\n",
    "\n",
    "wine_recipe"
   ]
  },
  {
   "cell_type": "markdown",
   "id": "478ff78a-37fa-4dce-8d10-84e914ce1d09",
   "metadata": {},
   "source": [
    "In order to obtain the optimal k value for k-nearest-neighbor classification algorithm, we apply cross validation that divides the training data set into 5 validation sets (5-fold cross validation). Having multiple training sets would allows us to acquire a more precise calculation of the accuracy of the classification model, which aids us in finding the best k-neighbor."
   ]
  },
  {
   "cell_type": "code",
   "execution_count": 11,
   "id": "f36a2608-651b-40f2-adcf-53e68d923ba9",
   "metadata": {
    "tags": []
   },
   "outputs": [
    {
     "ename": "ERROR",
     "evalue": "Error in eval_select_impl(NULL, .vars, expr(c(!!!dots)), include = .include, : object 'wine_train' not found\n",
     "output_type": "error",
     "traceback": [
      "Error in eval_select_impl(NULL, .vars, expr(c(!!!dots)), include = .include, : object 'wine_train' not found\nTraceback:\n",
      "1. vfold_cv(wine_train, v = 5, strata = quality)",
      "2. tidyselect::vars_select(names(data), !!enquo(strata))",
      "3. eval_select_impl(NULL, .vars, expr(c(!!!dots)), include = .include, \n .     exclude = .exclude, strict = .strict, name_spec = unique_name_spec, \n .     uniquely_named = TRUE, error_call = caller_env())"
     ]
    }
   ],
   "source": [
    "knn_spec <- nearest_neighbor(weight_func = \"rectangular\", neighbors = tune()) |>\n",
    "            set_engine(\"kknn\") |>\n",
    "            set_mode(\"classification\")\n",
    "\n",
    "k_vals <- tibble(neighbors = seq(from=1,to=10,by=1))\n",
    "\n",
    "wine_train_vfold <- vfold_cv(wine_train, v=5,strata=quality)\n",
    "\n",
    "vfold_metrics <- workflow() |>\n",
    "                    add_recipe(wine_recipe) |>\n",
    "                    add_model(knn_spec) |>\n",
    "                    tune_grid(resamples=wine_train_vfold, grid=k_vals) |>\n",
    "                    collect_metrics()\n",
    "\n",
    "accuracies <- vfold_metrics |> filter(.metric==\"accuracy\")\n",
    "\n",
    "accuracies"
   ]
  },
  {
   "cell_type": "markdown",
   "id": "267b315b-a2e2-458a-9d0a-715aaa670830",
   "metadata": {},
   "source": [
    "We now plot a graph to choose the Best K."
   ]
  },
  {
   "cell_type": "code",
   "execution_count": null,
   "id": "e82df125-dbfc-4d19-8db0-6b286ad75d5c",
   "metadata": {
    "tags": []
   },
   "outputs": [],
   "source": [
    "options(repr.plot.width=7,repr.plot.height=7)\n",
    "\n",
    "accuracy_vs_k <- ggplot(accuracies, aes(x=neighbors, y=mean)) +\n",
    "                    geom_point() +\n",
    "                    geom_line() +\n",
    "                    labs(x=\"Neighbors\", y=\"Accuracy Estimate\") +\n",
    "                    scale_x_continuous(limits=c(1,10), breaks=1:10) +\n",
    "                    theme(text=element_text(size=12))\n",
    "accuracy_vs_k"
   ]
  },
  {
   "cell_type": "markdown",
   "id": "2d15c2ea-b128-4841-9a3d-2e353e2338c6",
   "metadata": {},
   "source": [
    "According to the above accuracy vs k-neighbors line plot, we observe that the curve peaks at k= 2, which provides an indication that our classification model would return the most accurate predictions at k=2. As a result, we retrained the training dataset with a neighbor of k= 2."
   ]
  },
  {
   "cell_type": "code",
   "execution_count": null,
   "id": "e6c6f424-cb5f-4ed6-a468-1b9630745604",
   "metadata": {
    "tags": []
   },
   "outputs": [],
   "source": [
    "wine_spec <- nearest_neighbor(weight_func = \"rectangular\", neighbors = 2) |>\n",
    "            set_engine(\"kknn\") |>\n",
    "            set_mode(\"classification\")\n",
    "\n",
    "wine_fit <- workflow() |>\n",
    "            add_recipe(wine_recipe) |>\n",
    "            add_model(wine_spec) |>\n",
    "            fit(data=wine_test)\n",
    "\n",
    "\n",
    "\n",
    "wine_test_predictions <- predict(wine_fit, wine_test) |>\n",
    "                            bind_cols(wine_test)\n",
    "\n",
    "head(wine_test_predictions)"
   ]
  },
  {
   "cell_type": "markdown",
   "id": "df1f3fdf-7ef2-4754-a1b3-95b40a109408",
   "metadata": {},
   "source": [
    "Now we will check the accuracy of the prediction results using metrics and see the table of predicted and correct labels using Confusion Matrix"
   ]
  },
  {
   "cell_type": "code",
   "execution_count": null,
   "id": "a48b7c5b-2db5-4f6c-bcac-17d82b60c587",
   "metadata": {},
   "outputs": [],
   "source": [
    "wine_test_predictions |> metrics(truth=quality, estimate=.pred_class) |> filter(.metric == \"accuracy\")"
   ]
  },
  {
   "cell_type": "code",
   "execution_count": null,
   "id": "56aafa00-053f-4f7b-85ac-11da27ee978e",
   "metadata": {},
   "outputs": [],
   "source": [
    "wine_confusion <- wine_test_predictions |> conf_mat(truth=quality, estimate=.pred_class)\n",
    "wine_confusion"
   ]
  },
  {
   "cell_type": "markdown",
   "id": "3bb49688-80df-4c88-8ff6-1f903a773ae4",
   "metadata": {},
   "source": [
    "From both the accuracy metrics and the confusion matrix, we can observe that the majority of the inputs were predicted accurately in terms of wine quality. The incorrect predictions occurred with data that has wine quality equals to 5 and 7. In fact, the model demonstrated an accuracy of 95.02%, which is a reflection of the success and usefulness of our wine quality classification model."
   ]
  },
  {
   "cell_type": "code",
   "execution_count": null,
   "id": "8f7a6869-4a56-4cd6-9041-6c4910ceaf3b",
   "metadata": {},
   "outputs": [],
   "source": []
  }
 ],
 "metadata": {
  "kernelspec": {
   "display_name": "R",
   "language": "R",
   "name": "ir"
  },
  "language_info": {
   "codemirror_mode": "r",
   "file_extension": ".r",
   "mimetype": "text/x-r-source",
   "name": "R",
   "pygments_lexer": "r",
   "version": "4.2.2"
  }
 },
 "nbformat": 4,
 "nbformat_minor": 5
}
