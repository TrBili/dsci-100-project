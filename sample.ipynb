{
 "cells": [
  {
   "cell_type": "code",
   "execution_count": null,
   "id": "f7e1e62d-c83b-4fcf-9e5d-e6c37b36c8bd",
   "metadata": {},
   "outputs": [],
   "source": [
    "# This is a sample file. "
   ]
  },
  {
   "cell_type": "code",
   "execution_count": null,
   "id": "40efa00c-4018-4e97-9522-892d67059084",
   "metadata": {},
   "outputs": [],
   "source": [
    "# this is a new change"
   ]
  }
 ],
 "metadata": {
  "kernelspec": {
   "display_name": "R",
   "language": "R",
   "name": "ir"
  },
  "language_info": {
   "codemirror_mode": "r",
   "file_extension": ".r",
   "mimetype": "text/x-r-source",
   "name": "R",
   "pygments_lexer": "r",
   "version": "4.2.2"
  }
 },
 "nbformat": 4,
 "nbformat_minor": 5
}
